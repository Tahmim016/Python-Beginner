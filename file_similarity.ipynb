{
  "nbformat": 4,
  "nbformat_minor": 0,
  "metadata": {
    "colab": {
      "name": "file similarity.ipynb",
      "provenance": [],
      "collapsed_sections": []
    },
    "kernelspec": {
      "name": "python3",
      "display_name": "Python 3"
    },
    "language_info": {
      "name": "python"
    }
  },
  "cells": [
    {
      "cell_type": "code",
      "metadata": {
        "id": "EY_I7M51qFSS"
      },
      "source": [
        "import pandas as pd\n",
        "import numpy as np\n",
        "import os, glob"
      ],
      "execution_count": null,
      "outputs": []
    },
    {
      "cell_type": "code",
      "metadata": {
        "id": "lGqcthzJNzHR",
        "colab": {
          "base_uri": "https://localhost:8080/"
        },
        "outputId": "f8f17082-069f-4111-e6bd-2c11bf4e4337"
      },
      "source": [
        "with open(\"/content/drive/MyDrive/random.csv\") as ff1:\n",
        "  os.chdir(\"/content/drive/MyDrive/random\")\n",
        "  f1 = ff1.readlines()\n",
        "  f2 = os.listdir()\n",
        "  #print(f2)\n",
        "  print(len(f1), f1[:5])\n",
        "  res = list(set(f1) and set(f2))\n",
        "  print(len(f2), f2[:5])\n",
        "  print(len(res), res[:5])\n",
        "  per = (len(res) / len(f1))*100\n",
        "  print(per)\n",
        "\n",
        "  #for sl in res:\n",
        "    #print(sl)"
      ],
      "execution_count": null,
      "outputs": [
        {
          "output_type": "stream",
          "name": "stdout",
          "text": [
            "10001 ['0\\n', 'random/0.txt\\n', 'random/1.txt\\n', 'random/2.txt\\n', 'random/3.txt\\n']\n",
            "4949 ['7584.txt', '7862.txt', '8427.txt', '7467.txt', '8395.txt']\n",
            "4949 ['6597.txt', '5068.txt', '1450.txt', '9766.txt', '4549.txt']\n",
            "49.48505149485051\n"
          ]
        }
      ]
    },
    {
      "cell_type": "code",
      "metadata": {
        "id": "uWNfGUF_1ozI"
      },
      "source": [
        ""
      ],
      "execution_count": null,
      "outputs": []
    }
  ]
}